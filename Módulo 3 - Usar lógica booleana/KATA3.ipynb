{
 "cells": [
  {
   "cell_type": "code",
   "execution_count": 7,
   "metadata": {},
   "outputs": [
    {
     "name": "stdout",
     "output_type": "stream",
     "text": [
      "Aguas con el asteroide\n"
     ]
    }
   ],
   "source": [
    "velocidad = 49\n",
    "if velocidad > 25:\n",
    "    print(\"Aguas con el asteroide\")\n",
    "else:\n",
    "     print(\"Tdodo chilo\")\n"
   ]
  },
  {
   "cell_type": "code",
   "execution_count": 8,
   "metadata": {},
   "outputs": [
    {
     "name": "stdout",
     "output_type": "stream",
     "text": [
      "Abre los ojos, mira hacia arriba; hay una luz\n"
     ]
    }
   ],
   "source": [
    "asteroide = 20\n",
    "if asteroide >= 20:\n",
    "    print(\"Abre los ojos, mira hacia arriba; hay una luz\")\n",
    "else:\n",
    "    print(\"Todo normal\")"
   ]
  },
  {
   "cell_type": "code",
   "execution_count": 9,
   "metadata": {},
   "outputs": [
    {
     "name": "stdout",
     "output_type": "stream",
     "text": [
      "Abre los ojos, mira hacia arriba; hay una luz\n"
     ]
    }
   ],
   "source": [
    "v = 25\n",
    "t = 40\n",
    "if v > 25 and t > 25:\n",
    "    print(\"Aguas con el asteroide\")\n",
    "elif v >= 20:\n",
    "    print(\"Abre los ojos, mira hacia arriba; hay una luz\")\n",
    "elif t < 25:\n",
    "    print(\"Todo normal\")\n",
    "else:\n",
    "    print(\"Todo normal\")"
   ]
  }
 ],
 "metadata": {
  "interpreter": {
   "hash": "a1abd7f44d5fb45ed617dc58b72737399e45f2c87d6b47cf47bcc9a2c8af1f45"
  },
  "kernelspec": {
   "display_name": "Python 3.10.2 64-bit",
   "language": "python",
   "name": "python3"
  },
  "language_info": {
   "codemirror_mode": {
    "name": "ipython",
    "version": 3
   },
   "file_extension": ".py",
   "mimetype": "text/x-python",
   "name": "python",
   "nbconvert_exporter": "python",
   "pygments_lexer": "ipython3",
   "version": "3.10.2"
  },
  "orig_nbformat": 4
 },
 "nbformat": 4,
 "nbformat_minor": 2
}
